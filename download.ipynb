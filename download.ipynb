{
 "cells": [
  {
   "cell_type": "markdown",
   "metadata": {},
   "source": [
    "This file should only be used to contain the code used to download data by using the selenium \n",
    "\n",
    "and\n",
    "\n",
    "Upload data to minio"
   ]
  },
  {
   "cell_type": "code",
   "execution_count": 71,
   "metadata": {},
   "outputs": [
    {
     "name": "stdout",
     "output_type": "stream",
     "text": [
      "Defaulting to user installation because normal site-packages is not writeable\n",
      "Requirement already satisfied: boto3 in /home/thinh/.local/lib/python3.8/site-packages (1.34.69)\n",
      "Requirement already satisfied: botocore<1.35.0,>=1.34.69 in /home/thinh/.local/lib/python3.8/site-packages (from boto3) (1.34.69)\n",
      "Requirement already satisfied: jmespath<2.0.0,>=0.7.1 in /home/thinh/.local/lib/python3.8/site-packages (from boto3) (1.0.1)\n",
      "Requirement already satisfied: s3transfer<0.11.0,>=0.10.0 in /home/thinh/.local/lib/python3.8/site-packages (from boto3) (0.10.1)\n",
      "Requirement already satisfied: python-dateutil<3.0.0,>=2.1 in /home/thinh/.local/lib/python3.8/site-packages (from botocore<1.35.0,>=1.34.69->boto3) (2.9.0.post0)\n",
      "Requirement already satisfied: urllib3<1.27,>=1.25.4 in /home/thinh/.local/lib/python3.8/site-packages (from botocore<1.35.0,>=1.34.69->boto3) (1.26.18)\n",
      "Requirement already satisfied: six>=1.5 in /usr/lib/python3/dist-packages (from python-dateutil<3.0.0,>=2.1->botocore<1.35.0,>=1.34.69->boto3) (1.14.0)\n",
      "Note: you may need to restart the kernel to use updated packages.\n",
      "Defaulting to user installation because normal site-packages is not writeable\n",
      "Requirement already satisfied: selenium in /home/thinh/.local/lib/python3.8/site-packages (4.18.1)\n",
      "Requirement already satisfied: webdriver-manager in /home/thinh/.local/lib/python3.8/site-packages (4.0.1)\n",
      "Requirement already satisfied: python-dotenv in /home/thinh/.local/lib/python3.8/site-packages (1.0.1)\n",
      "Requirement already satisfied: urllib3<3,>=1.26 in /home/thinh/.local/lib/python3.8/site-packages (from urllib3[socks]<3,>=1.26->selenium) (1.26.18)\n",
      "Requirement already satisfied: trio~=0.17 in /home/thinh/.local/lib/python3.8/site-packages (from selenium) (0.25.0)\n",
      "Requirement already satisfied: trio-websocket~=0.9 in /home/thinh/.local/lib/python3.8/site-packages (from selenium) (0.11.1)\n",
      "Requirement already satisfied: certifi>=2021.10.8 in /home/thinh/.local/lib/python3.8/site-packages (from selenium) (2024.2.2)\n",
      "Requirement already satisfied: typing_extensions>=4.9.0 in /home/thinh/.local/lib/python3.8/site-packages (from selenium) (4.10.0)\n",
      "Requirement already satisfied: requests in /home/thinh/.local/lib/python3.8/site-packages (from webdriver-manager) (2.31.0)\n",
      "Requirement already satisfied: packaging in /home/thinh/.local/lib/python3.8/site-packages (from webdriver-manager) (23.2)\n",
      "Requirement already satisfied: attrs>=23.2.0 in /home/thinh/.local/lib/python3.8/site-packages (from trio~=0.17->selenium) (23.2.0)\n",
      "Requirement already satisfied: sortedcontainers in /home/thinh/.local/lib/python3.8/site-packages (from trio~=0.17->selenium) (2.4.0)\n",
      "Requirement already satisfied: idna in /usr/lib/python3/dist-packages (from trio~=0.17->selenium) (2.8)\n",
      "Requirement already satisfied: outcome in /home/thinh/.local/lib/python3.8/site-packages (from trio~=0.17->selenium) (1.3.0.post0)\n",
      "Requirement already satisfied: sniffio>=1.3.0 in /home/thinh/.local/lib/python3.8/site-packages (from trio~=0.17->selenium) (1.3.1)\n",
      "Requirement already satisfied: exceptiongroup in /home/thinh/.local/lib/python3.8/site-packages (from trio~=0.17->selenium) (1.2.0)\n",
      "Requirement already satisfied: wsproto>=0.14 in /home/thinh/.local/lib/python3.8/site-packages (from trio-websocket~=0.9->selenium) (1.2.0)\n",
      "Requirement already satisfied: PySocks!=1.5.7,<2.0,>=1.5.6 in /home/thinh/.local/lib/python3.8/site-packages (from urllib3[socks]<3,>=1.26->selenium) (1.7.1)\n",
      "Requirement already satisfied: charset-normalizer<4,>=2 in /home/thinh/.local/lib/python3.8/site-packages (from requests->webdriver-manager) (3.3.2)\n",
      "Requirement already satisfied: h11<1,>=0.9.0 in /home/thinh/.local/lib/python3.8/site-packages (from wsproto>=0.14->trio-websocket~=0.9->selenium) (0.14.0)\n",
      "Note: you may need to restart the kernel to use updated packages.\n"
     ]
    }
   ],
   "source": [
    "%pip install boto3\n",
    "# Libraries maybe you need to install in your environment to use selenium and chromedriver below\n",
    "%pip install selenium webdriver-manager python-dotenv"
   ]
  },
  {
   "cell_type": "code",
   "execution_count": 72,
   "metadata": {},
   "outputs": [],
   "source": [
    "import os\n",
    "import boto3"
   ]
  },
  {
   "cell_type": "code",
   "execution_count": 73,
   "metadata": {},
   "outputs": [],
   "source": [
    "# The file download processing section should be placed here\n",
    "\n",
    "#..........................................................."
   ]
  },
  {
   "cell_type": "code",
   "execution_count": 74,
   "metadata": {},
   "outputs": [],
   "source": [
    "# Define S3 storage\n",
    "obj_storage_access_key = os.getenv('OBJ_STORAGE_ACCESS_KEY', 'DO NOT SHOW KEY HERE')\n",
    "obj_storage_secret_key = os.getenv('OBJ_STORAGE_SECRET_KEY', 'DO NOT SHOW KEY HERE')\n",
    "obj_storage_endpoint = os.getenv('OBJ_STORAGE_ENDPOINT', 'DO NOT SHOW KEY HERE')\n",
    "\n",
    "data_folder_path = \"data/data-raw\""
   ]
  },
  {
   "cell_type": "code",
   "execution_count": 75,
   "metadata": {},
   "outputs": [],
   "source": [
    "\"\"\" 4. Use Selenium to download file from Google Drive \"\"\"\n",
    "\n",
    "from webdriver_manager.chrome import ChromeDriverManager\n",
    "from selenium import webdriver\n",
    "from selenium.webdriver.chrome.service import Service\n",
    "from selenium.webdriver.common.by import By\n",
    "from selenium.webdriver.support.ui import WebDriverWait\n",
    "from selenium.webdriver.common.action_chains import ActionChains\n",
    "from selenium.webdriver.support import expected_conditions as EC\n",
    "import time\n",
    "\n",
    "# If data.zip exists, delete it\n",
    "if os.path.exists(data_folder_path):\n",
    "    for f in os.listdir(data_folder_path):\n",
    "        if f == \"data.zip\":\n",
    "            os.remove(f'{data_folder_path}/data.zip')\n",
    "\n",
    "service = Service(ChromeDriverManager().install())\n",
    "chrome_options = webdriver.ChromeOptions()\n",
    "# Need to start fullscreen so the download button would be visible and clickable\n",
    "chrome_options.add_argument(\"--start-fullscreen\")\n",
    "\n",
    "# Set default download directory to current project directory\n",
    "current_dir = os.getcwd()\n",
    "chrome_options.add_experimental_option(\"prefs\", {\"download.default_directory\": f'{current_dir}/{data_folder_path}'})\n",
    "\n",
    "browser = webdriver.Chrome(service=service, options=chrome_options)\n",
    "\n",
    "try:\n",
    "    browser.get(\"https://drive.google.com/drive/folders/1EImvKyUQ_iJCfd2h-Dxjn_sqPyDV5tFC?usp=sharing\")\n",
    "\n",
    "    time.sleep(5)\n",
    "\n",
    "    # Find the file row\n",
    "    file_link = browser.find_element(By.XPATH, f'//div[.=\"data.zip\"]/ancestor::div[@role=\"gridcell\"]')\n",
    "\n",
    "    # Hover the row so the download button would be visible and clickable\n",
    "    action = ActionChains(browser)\n",
    "    action.move_to_element(file_link).perform()\n",
    "\n",
    "    # Click the download button\n",
    "    # Class name might not be the best idea, could use another one\n",
    "    # And using aria-label should be considered since it could be `Download` or `Tải xuống` based on region\n",
    "    download = browser.find_element(By.CLASS_NAME, \"akerZd\")\n",
    "    download.click()\n",
    "\n",
    "    # Wait for downloading\n",
    "    time.sleep(10)\n",
    "except Exception as e:\n",
    "    raise e\n",
    "finally:\n",
    "    browser.quit()"
   ]
  },
  {
   "cell_type": "code",
   "execution_count": 76,
   "metadata": {},
   "outputs": [],
   "source": [
    "# Function to upload file to minio\n",
    "def upload_file_to_minio(file_path, minio_bucket, minio_object_name):\n",
    "    s3c = boto3.resource('s3',\n",
    "                        endpoint_url=obj_storage_endpoint,\n",
    "                        aws_access_key_id=obj_storage_access_key,\n",
    "                        aws_secret_access_key=obj_storage_secret_key,\n",
    "                        config=boto3.session.Config(signature_version='s3v4'),\n",
    "                        verify=False\n",
    "                        )\n",
    "    try:\n",
    "        s3c.Bucket(minio_bucket).upload_file(file_path, minio_object_name)\n",
    "    except Exception as e:\n",
    "        raise e\n"
   ]
  },
  {
   "cell_type": "code",
   "execution_count": 77,
   "metadata": {},
   "outputs": [],
   "source": [
    "\"\"\" 5. Unzip file and upload to MinIO \"\"\"\n",
    "\n",
    "from zipfile import ZipFile\n",
    "\n",
    "with ZipFile(f'{data_folder_path}/data.zip', \"r\") as zip:\n",
    "    zip.extractall(data_folder_path)"
   ]
  },
  {
   "cell_type": "code",
   "execution_count": 78,
   "metadata": {},
   "outputs": [],
   "source": [
    "# Upload file to minio\n",
    "upload_file_to_minio(f'{data_folder_path}/data.json', 'data', 'data-raw/data.json')\n",
    "upload_file_to_minio(f'{data_folder_path}/data2.json', 'data', 'data-raw/data2.json')\n",
    "upload_file_to_minio(f'{data_folder_path}/data3.json', 'data', 'data-raw/data3.json')"
   ]
  }
 ],
 "metadata": {
  "kernelspec": {
   "display_name": ".venv",
   "language": "python",
   "name": "python3"
  },
  "language_info": {
   "codemirror_mode": {
    "name": "ipython",
    "version": 3
   },
   "file_extension": ".py",
   "mimetype": "text/x-python",
   "name": "python",
   "nbconvert_exporter": "python",
   "pygments_lexer": "ipython3",
   "version": "3.8.10"
  }
 },
 "nbformat": 4,
 "nbformat_minor": 2
}
